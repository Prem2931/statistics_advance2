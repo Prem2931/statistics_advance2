{
 "cells": [
  {
   "cell_type": "code",
   "execution_count": 1,
   "id": "04846d1a",
   "metadata": {},
   "outputs": [],
   "source": [
    "#Question1: Define the z-statistic and explain its relationship to the standard normal distribution. How is the z-statistic used in hypothesis testing?\n",
    "\n",
    "#Ans>> The z-statistic measures the number of standard deviations a data point is from the population mean. It's used in hypothesis testing to determine if a sample mean significantly differs from the population mean.\n",
    "\n",
    "#The z-statistic relates to the standard normal distribution as it assumes the data follows a normal distribution with mean 0 and standard deviation 1. In hypothesis testing, if the z-statistic is large in magnitude, it suggests that the sample is significantly different from the population mean."
   ]
  },
  {
   "cell_type": "code",
   "execution_count": 2,
   "id": "5b180a98",
   "metadata": {},
   "outputs": [],
   "source": [
    "#Question2 : What is a p-value, and how is it used in hypothesis testing? What does it mean if the p-value is very small (e.g., 0.01)?\n",
    "\n",
    "#Ans>> The p-value represents the probability of observing test results at least as extreme as those measured, assuming the null hypothesis is true. In hypothesis testing, a small p-value (e.g., less than 0.01) indicates strong evidence against the null hypothesis, suggesting it may be rejected in favor of the alternative hypothesis."
   ]
  },
  {
   "cell_type": "code",
   "execution_count": 3,
   "id": "3e6c7df3",
   "metadata": {},
   "outputs": [],
   "source": [
    "#Question3: Compare and contrast the binomial and Bernoulli distributions.\n",
    "\n",
    "#Ans>> The binomial distribution represents the number of successes in a fixed number of independent Bernoulli trials (each with two possible outcomes: success or failure). The Bernoulli distribution is a special case of the binomial distribution with a single trial."
   ]
  },
  {
   "cell_type": "code",
   "execution_count": 4,
   "id": "7b77430e",
   "metadata": {},
   "outputs": [],
   "source": [
    "#Question 4: Under what conditions is the binomial distribution used, and how does it relate to the Bernoulli distribution?\n",
    "\n",
    "#Ans>> The binomial distribution is used when there are a fixed number of independent trials, each with the same probability of success. It relates to the Bernoulli distribution, as the latter is the binomial distribution with only one trial (n=1)."
   ]
  },
  {
   "cell_type": "code",
   "execution_count": 5,
   "id": "6d2ee506",
   "metadata": {},
   "outputs": [],
   "source": [
    "#Question5: What are the key properties of the Poisson distribution, and when is it appropriate to use this distribution?\n",
    "\n",
    "#Ans>> Key properties of the Poisson distribution include its use for counting the number of events in a fixed interval of time or space, where events occur independently, and the average rate (λ) is constant. It’s appropriate when events are rare but occur randomly over time.\n",
    "\n"
   ]
  },
  {
   "cell_type": "code",
   "execution_count": 6,
   "id": "9a06b89a",
   "metadata": {},
   "outputs": [],
   "source": [
    "#Question5: What are the key properties of the Poisson distribution, and when is it appropriate to use this distribution?\n",
    "\n",
    "#Ans>> Key properties of the Poisson distribution include its use for counting the number of events in a fixed interval of time or space, where events occur independently, and the average rate (λ) is constant. It’s appropriate when events are rare but occur randomly over time.\n",
    "\n"
   ]
  },
  {
   "cell_type": "code",
   "execution_count": 7,
   "id": "d497f802",
   "metadata": {},
   "outputs": [],
   "source": [
    "#Question7: Explain the Central Limit Theorem (CLT) with example.\n",
    "\n",
    "#Ans>> The Central Limit Theorem (CLT) states that the sampling distribution of the sample mean approaches a normal distribution as the sample size grows, regardless of the population's distribution, given a sufficiently large sample size. For example, even if individual heights in a population aren’t normally distributed, the mean of many random samples of heights will follow a normal distribution."
   ]
  },
  {
   "cell_type": "code",
   "execution_count": 8,
   "id": "8cf163f5",
   "metadata": {},
   "outputs": [],
   "source": [
    "#Question8: Compare z-scores and t-scores. When should you use a z-score, and when should a t-score be applied instead?\n",
    "\n",
    "#Ans>> Z-scores are used when the population standard deviation is known and the sample size is large, typically above 30. T-scores are used when the population standard deviation is unknown and the sample size is small (below 30)."
   ]
  },
  {
   "cell_type": "code",
   "execution_count": 9,
   "id": "9e1087c0",
   "metadata": {},
   "outputs": [],
   "source": [
    "#Question9: Given a sample mean of 105, a population mean of 100, a standard deviation of 15, and a sample size of 25, calculate the z-score and p-value. Based on a significance level of 0.05, do you reject or fail to reject the null hypothesis?\n",
    "\n",
    "#Task: Write Python code to calculate the z-score and p-value for the given data.\n",
    "\n",
    "#Objective: Apply the formula for the z-score and interpret the p-value for hypothesis testing."
   ]
  },
  {
   "cell_type": "code",
   "execution_count": 10,
   "id": "384cb07c",
   "metadata": {},
   "outputs": [],
   "source": [
    "import scipy.stats as stats\n",
    "import numpy as np"
   ]
  },
  {
   "cell_type": "code",
   "execution_count": 13,
   "id": "bdeda60d",
   "metadata": {},
   "outputs": [],
   "source": [
    "population_mean = 100\n",
    "sample_mean = 105\n",
    "Population_std_dev = 15\n",
    "sample_size = 25\n",
    "alpha = 0.05 #Significance level"
   ]
  },
  {
   "cell_type": "code",
   "execution_count": 17,
   "id": "603ed684",
   "metadata": {},
   "outputs": [],
   "source": [
    "# calculate zscore\n",
    "zscore = (sample_mean-population_mean) / (Population_std_dev/np.sqrt(sample_size)) # type: ignore"
   ]
  },
  {
   "cell_type": "code",
   "execution_count": 23,
   "id": "02479afa",
   "metadata": {},
   "outputs": [
    {
     "data": {
      "text/plain": [
       "1.6666666666666667"
      ]
     },
     "execution_count": 23,
     "metadata": {},
     "output_type": "execute_result"
    }
   ],
   "source": [
    "zscore"
   ]
  },
  {
   "cell_type": "code",
   "execution_count": 24,
   "id": "45bbf090",
   "metadata": {},
   "outputs": [],
   "source": [
    "# calculate p_value\n",
    "p_value = 2*(1-stats.norm.cdf(zscore))"
   ]
  },
  {
   "cell_type": "code",
   "execution_count": 29,
   "id": "a6c42e4c",
   "metadata": {},
   "outputs": [
    {
     "data": {
      "text/plain": [
       "0.09558070454562939"
      ]
     },
     "execution_count": 29,
     "metadata": {},
     "output_type": "execute_result"
    }
   ],
   "source": [
    "p_value"
   ]
  },
  {
   "cell_type": "code",
   "execution_count": 30,
   "id": "58ed390f",
   "metadata": {},
   "outputs": [],
   "source": [
    "decision = \"reject\" if p_value < alpha else \"fail to reject\""
   ]
  },
  {
   "cell_type": "code",
   "execution_count": 31,
   "id": "76e9cfea",
   "metadata": {},
   "outputs": [
    {
     "name": "stdout",
     "output_type": "stream",
     "text": [
      "Z-score: 1.6666666666666667\n",
      "P-value: 0.09558070454562939\n",
      "Decision: fail to reject the null hypothesis at alpha = 0.05\n"
     ]
    }
   ],
   "source": [
    "print(f\"Z-score: {zscore}\")\n",
    "print(f\"P-value: {p_value}\")\n",
    "print(f\"Decision: {decision} the null hypothesis at alpha = {alpha}\")"
   ]
  },
  {
   "cell_type": "code",
   "execution_count": 32,
   "id": "e61d2584",
   "metadata": {},
   "outputs": [],
   "source": [
    "#Question10: Simulate a binomial distribution with 10 trials and a probability of success of 0.6 using Python. Generate 1,000 samples and plot the distribution. What is the expected mean and variance?\n",
    "\n",
    "#Task: Use Python to generate the data, plot the distribution, and calculate the mean and variance.\n",
    "\n",
    "#Objective: Understand the properties of a binomial distribution and verify them through simulation."
   ]
  },
  {
   "cell_type": "code",
   "execution_count": 33,
   "id": "f4641ea8",
   "metadata": {},
   "outputs": [],
   "source": [
    "import numpy as np\n",
    "import seaborn as sns\n",
    "import matplotlib.pyplot as plt"
   ]
  },
  {
   "cell_type": "code",
   "execution_count": 34,
   "id": "590afb38",
   "metadata": {},
   "outputs": [],
   "source": [
    "n_trials = 10\n",
    "p_success = 0.6\n",
    "num_samples = 1000\n"
   ]
  },
  {
   "cell_type": "code",
   "execution_count": 35,
   "id": "96abfcf4",
   "metadata": {},
   "outputs": [],
   "source": [
    "data = np.random.binomial(n_trials,p_success,num_samples)"
   ]
  },
  {
   "cell_type": "code",
   "execution_count": 36,
   "id": "2532191d",
   "metadata": {},
   "outputs": [
    {
     "data": {
      "text/plain": [
       "(5.948, 2.1872960000000004)"
      ]
     },
     "execution_count": 36,
     "metadata": {},
     "output_type": "execute_result"
    }
   ],
   "source": [
    "simulated_mean = np.mean(data)\n",
    "simulated_variance = np.var(data)\n",
    "simulated_mean,simulated_variance"
   ]
  },
  {
   "cell_type": "code",
   "execution_count": 37,
   "id": "153a38e7",
   "metadata": {},
   "outputs": [
    {
     "data": {
      "text/plain": [
       "(6.0, 2.4000000000000004)"
      ]
     },
     "execution_count": 37,
     "metadata": {},
     "output_type": "execute_result"
    }
   ],
   "source": [
    "# For a binomial distribution, the mean is given by 𝑛⋅𝑝\n",
    "# The variance is given by n.p.(1-p)\n",
    "\n",
    "theoretical_mean = n_trials * p_success\n",
    "theoretical_variance = n_trials * p_success * (1 - p_success)\n",
    "theoretical_mean,theoretical_variance"
   ]
  },
  {
   "cell_type": "code",
   "execution_count": 38,
   "id": "bff2265d",
   "metadata": {},
   "outputs": [
    {
     "data": {
      "image/png": "[encoded data removed]",
      "text/plain": [
       "<Figure size 640x480 with 1 Axes>"
      ]
     },
     "metadata": {},
     "output_type": "display_data"
    }
   ],
   "source": [
    "sns.histplot(data,kde=True, bins=range(n_trials+2), edgecolor='k', alpha=0.7)\n",
    "plt.title(\"Binomial Distribution (n=10, p=0.6)\")\n",
    "plt.xlabel(\"Number of Successes\")\n",
    "plt.ylabel(\"Frequency\")\n",
    "plt.show()"
   ]
  },
  {
   "cell_type": "code",
   "execution_count": 39,
   "id": "67cba9bc",
   "metadata": {},
   "outputs": [
    {
     "name": "stdout",
     "output_type": "stream",
     "text": [
      "Simulated Mean: 5.948\n",
      "Simulated Variance: 2.1872960000000004\n",
      "Theoretical Mean: 6.0\n",
      "Theoretical Variance: 2.4000000000000004\n"
     ]
    }
   ],
   "source": [
    "print(f\"Simulated Mean: {simulated_mean}\")\n",
    "print(f\"Simulated Variance: {simulated_variance}\")\n",
    "print(f\"Theoretical Mean: {theoretical_mean}\")\n",
    "print(f\"Theoretical Variance: {theoretical_variance}\")"
   ]
  },
  {
   "cell_type": "code",
   "execution_count": null,
   "id": "d04b03fd",
   "metadata": {},
   "outputs": [],
   "source": []
  }
 ],
 "metadata": {
  "kernelspec": {
   "display_name": "Python 3 (ipykernel)",
   "language": "python",
   "name": "python3"
  },
  "language_info": {
   "codemirror_mode": {
    "name": "ipython",
    "version": 3
   },
   "file_extension": ".py",
   "mimetype": "text/x-python",
   "name": "python",
   "nbconvert_exporter": "python",
   "pygments_lexer": "ipython3",
   "version": "3.11.5"
  }
 },
 "nbformat": 4,
 "nbformat_minor": 5
}
